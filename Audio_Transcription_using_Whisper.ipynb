{
  "nbformat": 4,
  "nbformat_minor": 0,
  "metadata": {
    "colab": {
      "provenance": [],
      "gpuType": "T4"
    },
    "kernelspec": {
      "name": "python3",
      "display_name": "Python 3"
    },
    "language_info": {
      "name": "python"
    },
    "accelerator": "GPU"
  },
  "cells": [
    {
      "cell_type": "markdown",
      "source": [
        "A notebook by [Mark Redito](https://markredito.com) with inspiration  from [Weights and Biases](https://https://wandb.ai/wandb_fc/gentle-intros/reports/OpenAI-Whisper-How-to-Transcribe-Your-Audio-to-Text-for-Free-with-SRTs-VTTs---VmlldzozNDczNTI0).\n",
        "\n",
        "This notebook uses Open AI's Whisper Model for Audio transcription ([Github](https://https://github.com/openai/whisper))\n",
        "\n",
        "Model params: `medium.en`. Medium-sized model, with English as the main language. For faster inference use GPU."
      ],
      "metadata": {
        "id": "VC5vST-sNByC"
      }
    },
    {
      "cell_type": "code",
      "source": [
        "# @title Step 1: Connect your google drive\n",
        "from google.colab import drive\n",
        "drive.mount('/content/drive')"
      ],
      "metadata": {
        "id": "v_FWqnZYo9x-",
        "cellView": "form"
      },
      "execution_count": null,
      "outputs": []
    },
    {
      "cell_type": "code",
      "source": [
        "# @title Step 2: Specify the values in this section\n",
        "\n",
        "# @markdown Where's the file coming from?\n",
        "input_format = \"gdrive\" #@param [\"gdrive\", \"local\"]\n",
        "\n",
        "# @markdown Enter the path of the audio file to be transcribed. To grab the path, click on the folder icon on the left nav bar, select \"drive\", then \"my drive\" and find the folder of your audio file. Select the audio file, right click and choose \"Copy Path\" and paste it on the field below.\n",
        "file = \"\" #@param {type:\"string\"}\n",
        "\n",
        "#@markdown Tick checkbox if you'd like to save the transcription as text file\n",
        "plain = True #@param {type:\"boolean\"}\n",
        "\n",
        "#@markdown Tick checkbox if you'd like to save the transcription as an SRT file\n",
        "srt = True #@param {type:\"boolean\"}"
      ],
      "metadata": {
        "id": "Lpz8LdGqJTH_",
        "cellView": "form"
      },
      "execution_count": null,
      "outputs": []
    },
    {
      "cell_type": "code",
      "source": [
        "# @title Step 3: Install dependencies and set configuration\n",
        "# Dependencies\n",
        "!pip install -q git+https://github.com/openai/whisper.git\n",
        "\n",
        "import os, re\n",
        "import torch\n",
        "from pathlib import Path\n",
        "\n",
        "import whisper\n",
        "from whisper.utils import get_writer\n",
        "\n",
        "# Use CUDA, if available\n",
        "DEVICE = \"cuda\" if torch.cuda.is_available() else \"cpu\"\n",
        "\n",
        "# Load the desired model\n",
        "model = whisper.load_model(\"medium.en\").to(DEVICE)"
      ],
      "metadata": {
        "id": "Ptwmp-u_KK75",
        "cellView": "form"
      },
      "execution_count": null,
      "outputs": []
    },
    {
      "cell_type": "code",
      "source": [
        "# @title Step 4: Transcribe\n",
        "def transcribe_file(model, file, plain, srt, options=None, ref_text=None):\n",
        "\n",
        "    file_path = Path(file)\n",
        "    print(f\"Transcribing file: {file_path}\\n\")\n",
        "\n",
        "    output_directory = file_path.parent\n",
        "\n",
        "    # Run Whisper\n",
        "    result = model.transcribe(file, verbose = False, language = \"en\")\n",
        "\n",
        "    # Create a default options dictionary\n",
        "    default_options = {\n",
        "        \"max_line_width\": None,\n",
        "        \"max_line_count\": None,\n",
        "        \"highlight_words\": False\n",
        "        # Add other default options as needed\n",
        "    }\n",
        "\n",
        "\n",
        "    if plain: # new additions here\n",
        "        txt_path = file_path.with_suffix(\".txt\")\n",
        "        print(f\"\\nCreating text file\")\n",
        "\n",
        "        # Numbering sentences\n",
        "        sentences = result[\"text\"].split('. ')\n",
        "        numbered_sentences = [f\"{i+1}. {sentence}\" for i, sentence in enumerate(sentences)]\n",
        "\n",
        "        with open(txt_path, \"w\", encoding=\"utf-8\") as txt:\n",
        "            txt.write(\"\\n\".join(numbered_sentences))\n",
        "    if srt:\n",
        "      print(f\"\\nCreating SRT file\")\n",
        "      srt_writer = get_writer(\"srt\", output_directory)\n",
        "      if options:\n",
        "          srt_writer(result, str(file_path.stem), options)\n",
        "      else:\n",
        "          srt_writer(result, str(file_path.stem), default_options)\n",
        "\n",
        "    return result\n",
        "\n",
        "if input_format == \"gdrive\":\n",
        "\n",
        "    # Run Whisper on the specified file\n",
        "    result = transcribe_file(model, file, plain, srt)\n",
        "elif input_format == \"local\":\n",
        "    # Run Whisper on the specified file\n",
        "    result = transcribe_file(model, file, plain, srt)"
      ],
      "metadata": {
        "id": "40Z_lFo6LJwX",
        "cellView": "form"
      },
      "execution_count": null,
      "outputs": []
    },
    {
      "cell_type": "markdown",
      "source": [
        "# And, that's it! We're done!\n",
        "Check your google drive for the output file.\n",
        "\n",
        "To generate another file go to [Step 2](#scrollTo=Lpz8LdGqJTH_&line=1&uniqifier=1) and input the new file path. Click the \"Play\" button. Then go straight to [Step 4](#scrollTo=40Z_lFo6LJwX&line=1&uniqifier=1). Then press \"Play\"."
      ],
      "metadata": {
        "id": "-ogtoG36L297"
      }
    },
    {
      "cell_type": "markdown",
      "source": [
        "---\n",
        "\n"
      ],
      "metadata": {
        "id": "m0v_VTkUL_Z5"
      }
    }
  ]
}